{
 "cells": [
  {
   "cell_type": "markdown",
   "metadata": {},
   "source": [
    "## Question 1\n",
    "\n",
    "Download the benchmark dataset, MNIST, from http://yann.lecun.com/exdb/mnist/. Implement multi-class classification for recognizing handwritten digits (also known as multiclass logistic regression ---this is simply a feedforward neural network with k output neurons, with one output neuron for each class, and each output neuron oi returns the probability that the input data-point xj is in class i) and try it on MNIST. \n",
    "\n",
    "Comments: No need to implement almost anything in DL by your own (this is true in general); the software framework (ie, the DL platform) typically provides implementations for all the things discussed in class, such as the learning algorithms, the regularizations methods, the cross-validation methods, etc.\n",
    "\n",
    "Use your favorite deep learning platform. A few candidates:\n",
    "\n",
    "1.\tMarvin from http://marvin.is/ \n",
    "2.\tCaffe from http://caffe.berkeleyvision.org) \n",
    "3.\tTensorFlow from https://www.tensorflow.org\n",
    "4.\tPylearn2 from http://deeplearning.net/software/pylearn2/\n",
    "5.\tTheano, Torch, Lasagne, etc. See more platforms at http://deeplearning.net/software_links/.\n",
    "\n",
    "Read the tutorial about your selected platform (eg, for TensorFlow: https://www.tensorflow.org/tutorials), try it on MNIST; note that the first few examples in the tutorials are typically on MNIST or other simple image datasets, so you can follow the steps. \n",
    "\n",
    "Comments: MNIST is a standard dataset for machine learning and also deep learning. It’s good to try it on one shallow neural network (with one output neuron; eg, for recognizing a character A from a not-A character) before trying it on a deep neural network with multiple outputs. Downloading the dataset from other places in preprocessed format is allowed, but practicing how to read the dataset prepares you for other new datasets you may be interested in (thus, please, read the MNIST website carefully). \n",
    "\n",
    "1.\tTry the basic minibatch SGD as your learning algorithm. It is recommended to try different initializations, different batch sizes, and different learning rates, in order to get a sense about how to tune the hyperparameters (batch size, and, learning rate). Remember to create and use validation dataset!. it will be very useful for you to read Chapter-11 of the textbook.\n",
    "\n",
    "2.\tIt is recommended to try, at least, another optimization method of your choice (SGD with momentum, RMSProp, RMSProp with momentum, AdaGrad, AdaDelta, or Adam) and compare its performances to those of the basic minibatch SGD on the MNIST dataset. Which methods you want to try and how many you want to try and compare is up to you and up to the amount of time you have left to complete the assignment. Remember, this is a research course. You may want to read Chapter-8 also."
   ]
  },
  {
   "cell_type": "markdown",
   "metadata": {},
   "source": [
    "For this question we experimented with the following approaches:\n",
    "\n",
    "1. Minibatch SGD with momentum, batch size = 20.\n",
    "2. Minibatch SGD with momentum, batch size = 100.\n",
    "2. Adam optimimizer, batch size = 20 \n",
    "2. Adam optimimizer, batch size = 100 \n",
    "\n",
    "We use Tensorflow for loading dataset and building the model. When fitting the model, the `validation_split` parameter is set to 0.2 and `epoch` = 10. \n"
   ]
  },
  {
   "cell_type": "code",
   "execution_count": 1,
   "metadata": {},
   "outputs": [],
   "source": [
    "import tensorflow as tf\n",
    "import pandas as pd\n",
    "import matplotlib.pyplot as plt\n",
    "import numpy as np\n",
    "from sklearn.metrics import classification_report\n",
    "from sklearn.utils import class_weight"
   ]
  },
  {
   "cell_type": "markdown",
   "metadata": {},
   "source": [
    "## Data preperation and Model building"
   ]
  },
  {
   "cell_type": "code",
   "execution_count": 2,
   "metadata": {},
   "outputs": [],
   "source": [
    "mnist = tf.keras.datasets.mnist\n",
    "(x_train, y_train), (x_test, y_test) = mnist.load_data()\n",
    "\n",
    "x_train = tf.keras.utils.normalize(x_train, axis=1)\n",
    "x_test = tf.keras.utils.normalize(x_test, axis=1)"
   ]
  },
  {
   "cell_type": "code",
   "execution_count": 3,
   "metadata": {},
   "outputs": [],
   "source": [
    "tf.keras.backend.clear_session()\n",
    "\n",
    "model = tf.keras.models.Sequential([\n",
    "            tf.keras.layers.Flatten(),\n",
    "            tf.keras.layers.Dense(128, activation=tf.nn.relu, name='L1'),\n",
    "            tf.keras.layers.Dense(64, activation=tf.nn.relu, name='L2'),\n",
    "            tf.keras.layers.Dense(32, activation=tf.nn.relu, name='L3'),\n",
    "            tf.keras.layers.Dense(10, activation=tf.nn.softmax, name='L4')\n",
    "        ])"
   ]
  },
  {
   "cell_type": "markdown",
   "metadata": {},
   "source": [
    "## Mini batch SGD algorithm Momentum (batch size = 20)"
   ]
  },
  {
   "cell_type": "code",
   "execution_count": 4,
   "metadata": {},
   "outputs": [
    {
     "name": "stdout",
     "output_type": "stream",
     "text": [
      "Epoch 1/10\n"
     ]
    },
    {
     "name": "stderr",
     "output_type": "stream",
     "text": [
      "/Users/haily/.pyenv/versions/3.10.4/lib/python3.10/site-packages/keras/src/backend/tensorflow/nn.py:602: UserWarning: \"`sparse_categorical_crossentropy` received `from_logits=True`, but the `output` argument was produced by a Softmax activation and thus does not represent logits. Was this intended?\n",
      "  output, from_logits = _get_logits(\n"
     ]
    },
    {
     "name": "stdout",
     "output_type": "stream",
     "text": [
      "\u001b[1m2400/2400\u001b[0m \u001b[32m━━━━━━━━━━━━━━━━━━━━\u001b[0m\u001b[37m\u001b[0m \u001b[1m2s\u001b[0m 602us/step - accuracy: 0.7844 - loss: 0.7022 - val_accuracy: 0.9482 - val_loss: 0.1693\n",
      "Epoch 2/10\n",
      "\u001b[1m2400/2400\u001b[0m \u001b[32m━━━━━━━━━━━━━━━━━━━━\u001b[0m\u001b[37m\u001b[0m \u001b[1m1s\u001b[0m 576us/step - accuracy: 0.9566 - loss: 0.1425 - val_accuracy: 0.9553 - val_loss: 0.1443\n",
      "Epoch 3/10\n",
      "\u001b[1m2400/2400\u001b[0m \u001b[32m━━━━━━━━━━━━━━━━━━━━\u001b[0m\u001b[37m\u001b[0m \u001b[1m1s\u001b[0m 525us/step - accuracy: 0.9694 - loss: 0.0966 - val_accuracy: 0.9652 - val_loss: 0.1202\n",
      "Epoch 4/10\n",
      "\u001b[1m2400/2400\u001b[0m \u001b[32m━━━━━━━━━━━━━━━━━━━━\u001b[0m\u001b[37m\u001b[0m \u001b[1m1s\u001b[0m 536us/step - accuracy: 0.9774 - loss: 0.0681 - val_accuracy: 0.9613 - val_loss: 0.1264\n",
      "Epoch 5/10\n",
      "\u001b[1m2400/2400\u001b[0m \u001b[32m━━━━━━━━━━━━━━━━━━━━\u001b[0m\u001b[37m\u001b[0m \u001b[1m1s\u001b[0m 551us/step - accuracy: 0.9810 - loss: 0.0581 - val_accuracy: 0.9697 - val_loss: 0.1076\n",
      "Epoch 6/10\n",
      "\u001b[1m2400/2400\u001b[0m \u001b[32m━━━━━━━━━━━━━━━━━━━━\u001b[0m\u001b[37m\u001b[0m \u001b[1m1s\u001b[0m 530us/step - accuracy: 0.9853 - loss: 0.0432 - val_accuracy: 0.9681 - val_loss: 0.1145\n",
      "Epoch 7/10\n",
      "\u001b[1m2400/2400\u001b[0m \u001b[32m━━━━━━━━━━━━━━━━━━━━\u001b[0m\u001b[37m\u001b[0m \u001b[1m1s\u001b[0m 543us/step - accuracy: 0.9878 - loss: 0.0368 - val_accuracy: 0.9688 - val_loss: 0.1191\n",
      "Epoch 8/10\n",
      "\u001b[1m2400/2400\u001b[0m \u001b[32m━━━━━━━━━━━━━━━━━━━━\u001b[0m\u001b[37m\u001b[0m \u001b[1m1s\u001b[0m 535us/step - accuracy: 0.9911 - loss: 0.0267 - val_accuracy: 0.9678 - val_loss: 0.1363\n",
      "Epoch 9/10\n",
      "\u001b[1m2400/2400\u001b[0m \u001b[32m━━━━━━━━━━━━━━━━━━━━\u001b[0m\u001b[37m\u001b[0m \u001b[1m1s\u001b[0m 531us/step - accuracy: 0.9926 - loss: 0.0235 - val_accuracy: 0.9693 - val_loss: 0.1209\n",
      "Epoch 10/10\n",
      "\u001b[1m2400/2400\u001b[0m \u001b[32m━━━━━━━━━━━━━━━━━━━━\u001b[0m\u001b[37m\u001b[0m \u001b[1m1s\u001b[0m 568us/step - accuracy: 0.9934 - loss: 0.0201 - val_accuracy: 0.9706 - val_loss: 0.1284\n"
     ]
    },
    {
     "data": {
      "text/plain": [
       "<keras.src.callbacks.history.History at 0x321815f60>"
      ]
     },
     "execution_count": 4,
     "metadata": {},
     "output_type": "execute_result"
    }
   ],
   "source": [
    "sgd = tf.keras.optimizers.SGD(learning_rate=0.01, momentum=0.9)\n",
    "\n",
    "model.compile(loss=tf.keras.losses.SparseCategoricalCrossentropy(from_logits=True), optimizer=sgd, metrics=['accuracy'])\n",
    "model.fit(x_train, y_train, epochs=10, batch_size=20, validation_split=0.2)"
   ]
  },
  {
   "cell_type": "code",
   "execution_count": 5,
   "metadata": {},
   "outputs": [
    {
     "name": "stdout",
     "output_type": "stream",
     "text": [
      "\u001b[1m313/313\u001b[0m \u001b[32m━━━━━━━━━━━━━━━━━━━━\u001b[0m\u001b[37m\u001b[0m \u001b[1m0s\u001b[0m 319us/step - accuracy: 0.9661 - loss: 0.1433\n",
      "Test accuracy:  0.9717000126838684\n",
      "Test loss:  0.11572042107582092\n"
     ]
    }
   ],
   "source": [
    "eval_loss1, eval_acc1 = model.evaluate(x_test, y_test)\n",
    "\n",
    "print('Test accuracy: ', eval_acc1)\n",
    "print('Test loss: ', eval_loss1)"
   ]
  },
  {
   "cell_type": "code",
   "execution_count": 6,
   "metadata": {},
   "outputs": [
    {
     "name": "stdout",
     "output_type": "stream",
     "text": [
      "\u001b[1m313/313\u001b[0m \u001b[32m━━━━━━━━━━━━━━━━━━━━\u001b[0m\u001b[37m\u001b[0m \u001b[1m0s\u001b[0m 375us/step\n",
      "              precision    recall  f1-score   support\n",
      "\n",
      "           0       0.98      0.99      0.98       980\n",
      "           1       0.98      0.99      0.99      1135\n",
      "           2       0.96      0.98      0.97      1032\n",
      "           3       0.93      0.98      0.96      1010\n",
      "           4       0.97      0.97      0.97       982\n",
      "           5       0.98      0.94      0.96       892\n",
      "           6       0.98      0.98      0.98       958\n",
      "           7       0.98      0.97      0.98      1028\n",
      "           8       0.95      0.97      0.96       974\n",
      "           9       0.98      0.93      0.96      1009\n",
      "\n",
      "    accuracy                           0.97     10000\n",
      "   macro avg       0.97      0.97      0.97     10000\n",
      "weighted avg       0.97      0.97      0.97     10000\n",
      "\n"
     ]
    }
   ],
   "source": [
    "y_pred = np.argmax(model.predict(x_test), axis=1)\n",
    "print(classification_report(y_test, y_pred))"
   ]
  },
  {
   "cell_type": "markdown",
   "metadata": {},
   "source": [
    "## Minibatch SGD algorithm with momentum (batch size = 100)"
   ]
  },
  {
   "cell_type": "code",
   "execution_count": 7,
   "metadata": {},
   "outputs": [
    {
     "name": "stdout",
     "output_type": "stream",
     "text": [
      "Epoch 1/10\n"
     ]
    },
    {
     "name": "stderr",
     "output_type": "stream",
     "text": [
      "/Users/haily/.pyenv/versions/3.10.4/lib/python3.10/site-packages/keras/src/backend/tensorflow/nn.py:602: UserWarning: \"`sparse_categorical_crossentropy` received `from_logits=True`, but the `output` argument was produced by a Softmax activation and thus does not represent logits. Was this intended?\n",
      "  output, from_logits = _get_logits(\n"
     ]
    },
    {
     "name": "stdout",
     "output_type": "stream",
     "text": [
      "\u001b[1m480/480\u001b[0m \u001b[32m━━━━━━━━━━━━━━━━━━━━\u001b[0m\u001b[37m\u001b[0m \u001b[1m1s\u001b[0m 1ms/step - accuracy: 0.5852 - loss: 1.3260 - val_accuracy: 0.9102 - val_loss: 0.3052\n",
      "Epoch 2/10\n",
      "\u001b[1m480/480\u001b[0m \u001b[32m━━━━━━━━━━━━━━━━━━━━\u001b[0m\u001b[37m\u001b[0m \u001b[1m0s\u001b[0m 863us/step - accuracy: 0.9191 - loss: 0.2824 - val_accuracy: 0.9378 - val_loss: 0.2153\n",
      "Epoch 3/10\n",
      "\u001b[1m480/480\u001b[0m \u001b[32m━━━━━━━━━━━━━━━━━━━━\u001b[0m\u001b[37m\u001b[0m \u001b[1m0s\u001b[0m 881us/step - accuracy: 0.9411 - loss: 0.1997 - val_accuracy: 0.9487 - val_loss: 0.1803\n",
      "Epoch 4/10\n",
      "\u001b[1m480/480\u001b[0m \u001b[32m━━━━━━━━━━━━━━━━━━━━\u001b[0m\u001b[37m\u001b[0m \u001b[1m0s\u001b[0m 860us/step - accuracy: 0.9529 - loss: 0.1559 - val_accuracy: 0.9536 - val_loss: 0.1577\n",
      "Epoch 5/10\n",
      "\u001b[1m480/480\u001b[0m \u001b[32m━━━━━━━━━━━━━━━━━━━━\u001b[0m\u001b[37m\u001b[0m \u001b[1m0s\u001b[0m 909us/step - accuracy: 0.9616 - loss: 0.1274 - val_accuracy: 0.9606 - val_loss: 0.1358\n",
      "Epoch 6/10\n",
      "\u001b[1m480/480\u001b[0m \u001b[32m━━━━━━━━━━━━━━━━━━━━\u001b[0m\u001b[37m\u001b[0m \u001b[1m0s\u001b[0m 921us/step - accuracy: 0.9704 - loss: 0.1028 - val_accuracy: 0.9603 - val_loss: 0.1359\n",
      "Epoch 7/10\n",
      "\u001b[1m480/480\u001b[0m \u001b[32m━━━━━━━━━━━━━━━━━━━━\u001b[0m\u001b[37m\u001b[0m \u001b[1m0s\u001b[0m 926us/step - accuracy: 0.9726 - loss: 0.0899 - val_accuracy: 0.9645 - val_loss: 0.1218\n",
      "Epoch 8/10\n",
      "\u001b[1m480/480\u001b[0m \u001b[32m━━━━━━━━━━━━━━━━━━━━\u001b[0m\u001b[37m\u001b[0m \u001b[1m0s\u001b[0m 894us/step - accuracy: 0.9767 - loss: 0.0757 - val_accuracy: 0.9651 - val_loss: 0.1175\n",
      "Epoch 9/10\n",
      "\u001b[1m480/480\u001b[0m \u001b[32m━━━━━━━━━━━━━━━━━━━━\u001b[0m\u001b[37m\u001b[0m \u001b[1m0s\u001b[0m 865us/step - accuracy: 0.9804 - loss: 0.0649 - val_accuracy: 0.9672 - val_loss: 0.1141\n",
      "Epoch 10/10\n",
      "\u001b[1m480/480\u001b[0m \u001b[32m━━━━━━━━━━━━━━━━━━━━\u001b[0m\u001b[37m\u001b[0m \u001b[1m0s\u001b[0m 908us/step - accuracy: 0.9828 - loss: 0.0586 - val_accuracy: 0.9668 - val_loss: 0.1147\n"
     ]
    },
    {
     "data": {
      "text/plain": [
       "<keras.src.callbacks.history.History at 0x35f031f30>"
      ]
     },
     "execution_count": 7,
     "metadata": {},
     "output_type": "execute_result"
    }
   ],
   "source": [
    "tf.keras.backend.clear_session()\n",
    "sgd = tf.keras.optimizers.SGD(learning_rate=0.01, momentum=0.9)\n",
    "model2 = tf.keras.models.Sequential([\n",
    "            tf.keras.layers.Flatten(),\n",
    "            tf.keras.layers.Dense(128, activation=tf.nn.relu, name='L1'),\n",
    "            tf.keras.layers.Dense(64, activation=tf.nn.relu, name='L2'),\n",
    "            tf.keras.layers.Dense(32, activation=tf.nn.relu, name='L3'),\n",
    "            tf.keras.layers.Dense(10, activation=tf.nn.softmax, name='L4')\n",
    "\n",
    "    ])\n",
    "model2.compile(loss=tf.keras.losses.SparseCategoricalCrossentropy(from_logits=True), optimizer=sgd, metrics=['accuracy'])\n",
    "model2.fit(x_train, y_train, epochs=10, batch_size=100, validation_split=0.2)"
   ]
  },
  {
   "cell_type": "code",
   "execution_count": 8,
   "metadata": {},
   "outputs": [
    {
     "name": "stdout",
     "output_type": "stream",
     "text": [
      "\u001b[1m313/313\u001b[0m \u001b[32m━━━━━━━━━━━━━━━━━━━━\u001b[0m\u001b[37m\u001b[0m \u001b[1m0s\u001b[0m 318us/step - accuracy: 0.9643 - loss: 0.1202\n",
      "Test accuracy:  0.9688000082969666\n",
      "Test loss:  0.10390076041221619\n"
     ]
    }
   ],
   "source": [
    "eval_loss2, eval_acc2 = model2.evaluate(x_test, y_test)\n",
    "\n",
    "print('Test accuracy: ', eval_acc2)\n",
    "print('Test loss: ', eval_loss2)"
   ]
  },
  {
   "cell_type": "code",
   "execution_count": 9,
   "metadata": {},
   "outputs": [
    {
     "name": "stdout",
     "output_type": "stream",
     "text": [
      "\u001b[1m313/313\u001b[0m \u001b[32m━━━━━━━━━━━━━━━━━━━━\u001b[0m\u001b[37m\u001b[0m \u001b[1m0s\u001b[0m 408us/step\n",
      "              precision    recall  f1-score   support\n",
      "\n",
      "           0       0.97      0.99      0.98       980\n",
      "           1       0.98      0.99      0.98      1135\n",
      "           2       0.98      0.97      0.97      1032\n",
      "           3       0.96      0.97      0.96      1010\n",
      "           4       0.98      0.95      0.96       982\n",
      "           5       0.96      0.98      0.97       892\n",
      "           6       0.97      0.97      0.97       958\n",
      "           7       0.97      0.96      0.96      1028\n",
      "           8       0.96      0.96      0.96       974\n",
      "           9       0.95      0.95      0.95      1009\n",
      "\n",
      "    accuracy                           0.97     10000\n",
      "   macro avg       0.97      0.97      0.97     10000\n",
      "weighted avg       0.97      0.97      0.97     10000\n",
      "\n"
     ]
    }
   ],
   "source": [
    "y_pred = np.argmax(model2.predict(x_test), axis=1)\n",
    "print(classification_report(y_test, y_pred))"
   ]
  },
  {
   "cell_type": "markdown",
   "metadata": {},
   "source": [
    "## Adam optimizer (batch size = 20)"
   ]
  },
  {
   "cell_type": "code",
   "execution_count": 10,
   "metadata": {},
   "outputs": [
    {
     "name": "stdout",
     "output_type": "stream",
     "text": [
      "Epoch 1/10\n"
     ]
    },
    {
     "name": "stderr",
     "output_type": "stream",
     "text": [
      "/Users/haily/.pyenv/versions/3.10.4/lib/python3.10/site-packages/keras/src/backend/tensorflow/nn.py:602: UserWarning: \"`sparse_categorical_crossentropy` received `from_logits=True`, but the `output` argument was produced by a Softmax activation and thus does not represent logits. Was this intended?\n",
      "  output, from_logits = _get_logits(\n"
     ]
    },
    {
     "name": "stdout",
     "output_type": "stream",
     "text": [
      "\u001b[1m2400/2400\u001b[0m \u001b[32m━━━━━━━━━━━━━━━━━━━━\u001b[0m\u001b[37m\u001b[0m \u001b[1m3s\u001b[0m 875us/step - accuracy: 0.8367 - loss: 0.5249 - val_accuracy: 0.9561 - val_loss: 0.1402\n",
      "Epoch 2/10\n",
      "\u001b[1m2400/2400\u001b[0m \u001b[32m━━━━━━━━━━━━━━━━━━━━\u001b[0m\u001b[37m\u001b[0m \u001b[1m2s\u001b[0m 796us/step - accuracy: 0.9613 - loss: 0.1257 - val_accuracy: 0.9615 - val_loss: 0.1213\n",
      "Epoch 3/10\n",
      "\u001b[1m2400/2400\u001b[0m \u001b[32m━━━━━━━━━━━━━━━━━━━━\u001b[0m\u001b[37m\u001b[0m \u001b[1m2s\u001b[0m 767us/step - accuracy: 0.9775 - loss: 0.0737 - val_accuracy: 0.9689 - val_loss: 0.1078\n",
      "Epoch 4/10\n",
      "\u001b[1m2400/2400\u001b[0m \u001b[32m━━━━━━━━━━━━━━━━━━━━\u001b[0m\u001b[37m\u001b[0m \u001b[1m2s\u001b[0m 806us/step - accuracy: 0.9813 - loss: 0.0565 - val_accuracy: 0.9638 - val_loss: 0.1193\n",
      "Epoch 5/10\n",
      "\u001b[1m2400/2400\u001b[0m \u001b[32m━━━━━━━━━━━━━━━━━━━━\u001b[0m\u001b[37m\u001b[0m \u001b[1m2s\u001b[0m 771us/step - accuracy: 0.9843 - loss: 0.0481 - val_accuracy: 0.9722 - val_loss: 0.1078\n",
      "Epoch 6/10\n",
      "\u001b[1m2400/2400\u001b[0m \u001b[32m━━━━━━━━━━━━━━━━━━━━\u001b[0m\u001b[37m\u001b[0m \u001b[1m2s\u001b[0m 787us/step - accuracy: 0.9891 - loss: 0.0344 - val_accuracy: 0.9673 - val_loss: 0.1289\n",
      "Epoch 7/10\n",
      "\u001b[1m2400/2400\u001b[0m \u001b[32m━━━━━━━━━━━━━━━━━━━━\u001b[0m\u001b[37m\u001b[0m \u001b[1m2s\u001b[0m 774us/step - accuracy: 0.9895 - loss: 0.0305 - val_accuracy: 0.9692 - val_loss: 0.1179\n",
      "Epoch 8/10\n",
      "\u001b[1m2400/2400\u001b[0m \u001b[32m━━━━━━━━━━━━━━━━━━━━\u001b[0m\u001b[37m\u001b[0m \u001b[1m2s\u001b[0m 819us/step - accuracy: 0.9928 - loss: 0.0224 - val_accuracy: 0.9722 - val_loss: 0.1116\n",
      "Epoch 9/10\n",
      "\u001b[1m2400/2400\u001b[0m \u001b[32m━━━━━━━━━━━━━━━━━━━━\u001b[0m\u001b[37m\u001b[0m \u001b[1m2s\u001b[0m 780us/step - accuracy: 0.9935 - loss: 0.0184 - val_accuracy: 0.9704 - val_loss: 0.1218\n",
      "Epoch 10/10\n",
      "\u001b[1m2400/2400\u001b[0m \u001b[32m━━━━━━━━━━━━━━━━━━━━\u001b[0m\u001b[37m\u001b[0m \u001b[1m2s\u001b[0m 750us/step - accuracy: 0.9940 - loss: 0.0163 - val_accuracy: 0.9689 - val_loss: 0.1423\n"
     ]
    },
    {
     "data": {
      "text/plain": [
       "<keras.src.callbacks.history.History at 0x3600a17b0>"
      ]
     },
     "execution_count": 10,
     "metadata": {},
     "output_type": "execute_result"
    }
   ],
   "source": [
    "tf.keras.backend.clear_session()\n",
    "\n",
    "model3 = tf.keras.models.Sequential([\n",
    "            tf.keras.layers.Flatten(),\n",
    "            tf.keras.layers.Dense(128, activation=tf.nn.relu, name='L1'),\n",
    "            tf.keras.layers.Dense(64, activation=tf.nn.relu, name='L2'),\n",
    "            tf.keras.layers.Dense(32, activation=tf.nn.relu, name='L3'),\n",
    "            tf.keras.layers.Dense(10, activation=tf.nn.softmax, name='L4')\n",
    "    ])\n",
    "\n",
    "model3.compile(loss=tf.keras.losses.SparseCategoricalCrossentropy(from_logits=True), optimizer='adam', metrics=['accuracy'])\n",
    "model3.fit(x_train, y_train, batch_size=20, epochs=10, validation_split=0.2)"
   ]
  },
  {
   "cell_type": "code",
   "execution_count": 11,
   "metadata": {},
   "outputs": [
    {
     "name": "stdout",
     "output_type": "stream",
     "text": [
      "\u001b[1m313/313\u001b[0m \u001b[32m━━━━━━━━━━━━━━━━━━━━\u001b[0m\u001b[37m\u001b[0m \u001b[1m0s\u001b[0m 319us/step - accuracy: 0.9629 - loss: 0.1731\n",
      "Test accuracy:  0.9689000248908997\n",
      "Test loss:  0.14368994534015656\n"
     ]
    }
   ],
   "source": [
    "eval_loss3, eval_acc3 = model3.evaluate(x_test, y_test)\n",
    "\n",
    "print('Test accuracy: ', eval_acc3)\n",
    "print('Test loss: ', eval_loss3)"
   ]
  },
  {
   "cell_type": "code",
   "execution_count": 12,
   "metadata": {},
   "outputs": [
    {
     "name": "stdout",
     "output_type": "stream",
     "text": [
      "\u001b[1m313/313\u001b[0m \u001b[32m━━━━━━━━━━━━━━━━━━━━\u001b[0m\u001b[37m\u001b[0m \u001b[1m0s\u001b[0m 371us/step\n",
      "              precision    recall  f1-score   support\n",
      "\n",
      "           0       0.99      0.98      0.99       980\n",
      "           1       0.99      0.98      0.99      1135\n",
      "           2       0.98      0.97      0.98      1032\n",
      "           3       0.93      0.99      0.96      1010\n",
      "           4       0.99      0.94      0.96       982\n",
      "           5       0.98      0.96      0.97       892\n",
      "           6       0.96      0.99      0.97       958\n",
      "           7       0.99      0.95      0.97      1028\n",
      "           8       0.93      0.98      0.95       974\n",
      "           9       0.95      0.95      0.95      1009\n",
      "\n",
      "    accuracy                           0.97     10000\n",
      "   macro avg       0.97      0.97      0.97     10000\n",
      "weighted avg       0.97      0.97      0.97     10000\n",
      "\n"
     ]
    }
   ],
   "source": [
    "y_pred = np.argmax(model3.predict(x_test), axis=1)\n",
    "print(classification_report(y_test, y_pred))"
   ]
  },
  {
   "cell_type": "markdown",
   "metadata": {},
   "source": [
    "## Adam optimizer (batch size = 100)"
   ]
  },
  {
   "cell_type": "code",
   "execution_count": 13,
   "metadata": {},
   "outputs": [
    {
     "name": "stdout",
     "output_type": "stream",
     "text": [
      "Epoch 1/10\n"
     ]
    },
    {
     "name": "stderr",
     "output_type": "stream",
     "text": [
      "/Users/haily/.pyenv/versions/3.10.4/lib/python3.10/site-packages/keras/src/backend/tensorflow/nn.py:602: UserWarning: \"`sparse_categorical_crossentropy` received `from_logits=True`, but the `output` argument was produced by a Softmax activation and thus does not represent logits. Was this intended?\n",
      "  output, from_logits = _get_logits(\n"
     ]
    },
    {
     "name": "stdout",
     "output_type": "stream",
     "text": [
      "\u001b[1m480/480\u001b[0m \u001b[32m━━━━━━━━━━━━━━━━━━━━\u001b[0m\u001b[37m\u001b[0m \u001b[1m1s\u001b[0m 1ms/step - accuracy: 0.7634 - loss: 0.8087 - val_accuracy: 0.9461 - val_loss: 0.1919\n",
      "Epoch 2/10\n",
      "\u001b[1m480/480\u001b[0m \u001b[32m━━━━━━━━━━━━━━━━━━━━\u001b[0m\u001b[37m\u001b[0m \u001b[1m1s\u001b[0m 1ms/step - accuracy: 0.9508 - loss: 0.1638 - val_accuracy: 0.9586 - val_loss: 0.1402\n",
      "Epoch 3/10\n",
      "\u001b[1m480/480\u001b[0m \u001b[32m━━━━━━━━━━━━━━━━━━━━\u001b[0m\u001b[37m\u001b[0m \u001b[1m1s\u001b[0m 1ms/step - accuracy: 0.9677 - loss: 0.1105 - val_accuracy: 0.9632 - val_loss: 0.1171\n",
      "Epoch 4/10\n",
      "\u001b[1m480/480\u001b[0m \u001b[32m━━━━━━━━━━━━━━━━━━━━\u001b[0m\u001b[37m\u001b[0m \u001b[1m1s\u001b[0m 1ms/step - accuracy: 0.9766 - loss: 0.0799 - val_accuracy: 0.9640 - val_loss: 0.1192\n",
      "Epoch 5/10\n",
      "\u001b[1m480/480\u001b[0m \u001b[32m━━━━━━━━━━━━━━━━━━━━\u001b[0m\u001b[37m\u001b[0m \u001b[1m1s\u001b[0m 1ms/step - accuracy: 0.9812 - loss: 0.0638 - val_accuracy: 0.9693 - val_loss: 0.1038\n",
      "Epoch 6/10\n",
      "\u001b[1m480/480\u001b[0m \u001b[32m━━━━━━━━━━━━━━━━━━━━\u001b[0m\u001b[37m\u001b[0m \u001b[1m1s\u001b[0m 1ms/step - accuracy: 0.9839 - loss: 0.0516 - val_accuracy: 0.9697 - val_loss: 0.1039\n",
      "Epoch 7/10\n",
      "\u001b[1m480/480\u001b[0m \u001b[32m━━━━━━━━━━━━━━━━━━━━\u001b[0m\u001b[37m\u001b[0m \u001b[1m1s\u001b[0m 1ms/step - accuracy: 0.9887 - loss: 0.0386 - val_accuracy: 0.9707 - val_loss: 0.1038\n",
      "Epoch 8/10\n",
      "\u001b[1m480/480\u001b[0m \u001b[32m━━━━━━━━━━━━━━━━━━━━\u001b[0m\u001b[37m\u001b[0m \u001b[1m1s\u001b[0m 1ms/step - accuracy: 0.9906 - loss: 0.0305 - val_accuracy: 0.9729 - val_loss: 0.1029\n",
      "Epoch 9/10\n",
      "\u001b[1m480/480\u001b[0m \u001b[32m━━━━━━━━━━━━━━━━━━━━\u001b[0m\u001b[37m\u001b[0m \u001b[1m1s\u001b[0m 1ms/step - accuracy: 0.9925 - loss: 0.0248 - val_accuracy: 0.9712 - val_loss: 0.1070\n",
      "Epoch 10/10\n",
      "\u001b[1m480/480\u001b[0m \u001b[32m━━━━━━━━━━━━━━━━━━━━\u001b[0m\u001b[37m\u001b[0m \u001b[1m1s\u001b[0m 1ms/step - accuracy: 0.9937 - loss: 0.0217 - val_accuracy: 0.9720 - val_loss: 0.1075\n"
     ]
    },
    {
     "data": {
      "text/plain": [
       "<keras.src.callbacks.history.History at 0x3608d4730>"
      ]
     },
     "execution_count": 13,
     "metadata": {},
     "output_type": "execute_result"
    }
   ],
   "source": [
    "tf.keras.backend.clear_session()\n",
    "\n",
    "model4 = tf.keras.models.Sequential([\n",
    "            tf.keras.layers.Flatten(),\n",
    "            tf.keras.layers.Dense(128, activation=tf.nn.relu, name='L1'),\n",
    "            tf.keras.layers.Dense(64, activation=tf.nn.relu, name='L2'),\n",
    "            tf.keras.layers.Dense(32, activation=tf.nn.relu, name='L3'),\n",
    "            tf.keras.layers.Dense(10, activation=tf.nn.softmax, name='L4')\n",
    "    ])\n",
    "\n",
    "model4.compile(loss=tf.keras.losses.SparseCategoricalCrossentropy(from_logits=True), optimizer='adam', metrics=['accuracy'])\n",
    "model4.fit(x_train, y_train, batch_size=100, epochs=10, validation_split=0.2)"
   ]
  },
  {
   "cell_type": "code",
   "execution_count": 14,
   "metadata": {},
   "outputs": [
    {
     "name": "stdout",
     "output_type": "stream",
     "text": [
      "\u001b[1m313/313\u001b[0m \u001b[32m━━━━━━━━━━━━━━━━━━━━\u001b[0m\u001b[37m\u001b[0m \u001b[1m0s\u001b[0m 345us/step - accuracy: 0.9644 - loss: 0.1246\n",
      "Test accuracy:  0.97079998254776\n",
      "Test loss:  0.10548028349876404\n"
     ]
    }
   ],
   "source": [
    "eval_loss4, eval_acc4 = model4.evaluate(x_test, y_test)\n",
    "\n",
    "print('Test accuracy: ', eval_acc4)\n",
    "print('Test loss: ', eval_loss4)"
   ]
  },
  {
   "cell_type": "code",
   "execution_count": 15,
   "metadata": {},
   "outputs": [
    {
     "name": "stdout",
     "output_type": "stream",
     "text": [
      "\u001b[1m313/313\u001b[0m \u001b[32m━━━━━━━━━━━━━━━━━━━━\u001b[0m\u001b[37m\u001b[0m \u001b[1m0s\u001b[0m 382us/step\n",
      "              precision    recall  f1-score   support\n",
      "\n",
      "           0       0.98      0.99      0.99       980\n",
      "           1       0.99      0.99      0.99      1135\n",
      "           2       0.97      0.95      0.96      1032\n",
      "           3       0.93      0.99      0.96      1010\n",
      "           4       0.97      0.97      0.97       982\n",
      "           5       0.98      0.95      0.96       892\n",
      "           6       0.97      0.98      0.98       958\n",
      "           7       0.97      0.97      0.97      1028\n",
      "           8       0.96      0.97      0.97       974\n",
      "           9       0.98      0.95      0.96      1009\n",
      "\n",
      "    accuracy                           0.97     10000\n",
      "   macro avg       0.97      0.97      0.97     10000\n",
      "weighted avg       0.97      0.97      0.97     10000\n",
      "\n"
     ]
    }
   ],
   "source": [
    "y_pred = np.argmax(model4.predict(x_test), axis=1)\n",
    "print(classification_report(y_test, y_pred))"
   ]
  }
 ],
 "metadata": {
  "kernelspec": {
   "display_name": "Python 3",
   "language": "python",
   "name": "python3"
  },
  "language_info": {
   "codemirror_mode": {
    "name": "ipython",
    "version": 3
   },
   "file_extension": ".py",
   "mimetype": "text/x-python",
   "name": "python",
   "nbconvert_exporter": "python",
   "pygments_lexer": "ipython3",
   "version": "3.10.4"
  }
 },
 "nbformat": 4,
 "nbformat_minor": 2
}
